{
 "cells": [
  {
   "cell_type": "markdown",
   "metadata": {
    "colab_type": "text",
    "id": "DyhyA0EkYySm"
   },
   "source": [
    "<a href=\"https://colab.research.google.com/github/UDEA-Esp-Analitica-y-Ciencia-de-Datos/EACD-04-MACHINE-LEARNING-1/blob/master/04-%5BTALLER%5D_Regresion_lineal_y_regresion_logistica.ipynb\" target=\"_parent\"><img src=\"https://colab.research.google.com/assets/colab-badge.svg\" alt=\"Open In Colab\"/></a>\n",
    "\n",
    "\n",
    "**Recuerda que una vez abierto, Da clic en \"Copiar en Drive\", de lo contrario no podras alamancenar tu progreso**\n",
    "\n",
    "Nota: no olvide ir ejecutando las celdas de código de arriba hacia abajo para que no tenga errores de importación de librerías o por falta de definición de variables.\n"
   ]
  },
  {
   "cell_type": "code",
   "execution_count": null,
   "metadata": {},
   "outputs": [],
   "source": [
    "!wget --no-cache -O init.py -q https://raw.githubusercontent.com/UDEA-Esp-Analitica-y-Ciencia-de-Datos/EACD-04-MACHINE-LEARNING-1/master/init.py\n",
    "import init; init.init(force_download=False); "
   ]
  },
  {
   "cell_type": "code",
   "execution_count": null,
   "metadata": {},
   "outputs": [],
   "source": [
    "#configuración del laboratorio\n",
    "# Ejecuta esta celda!\n",
    "%load_ext autoreload\n",
    "%autoreload 2"
   ]
  },
  {
   "cell_type": "markdown",
   "metadata": {},
   "source": [
    "# Taller - Parte 1\n",
    "\n",
    "**Regresión polinomial múltiple**"
   ]
  },
  {
   "cell_type": "code",
   "execution_count": null,
   "metadata": {},
   "outputs": [],
   "source": [
    "from local.lib.general import configure_lab1_p1\n",
    "configure_lab1_p1()\n",
    "from local.lib.lab1 import *\n",
    "GRADER_LAB_1_P1, db, x, y = part_1()"
   ]
  },
  {
   "cell_type": "markdown",
   "metadata": {},
   "source": [
    "## Ejercicio 1.1: Contextualización del problema\n",
    "\n",
    "El problema de regresión que abordaremos consiste en predecir el valor de la humedad absoluta en el aire, a partir de varias variables sensadas en el aire (Para más información sobre la base de datos y la contextualización del problema, consulte: [link](http://archive.ics.uci.edu/ml/datasets/air+quality))."
   ]
  },
  {
   "cell_type": "code",
   "execution_count": null,
   "metadata": {},
   "outputs": [],
   "source": [
    "# tienes ya cargadas las siguientes variables:\n",
    "print(\"conjunto de datos\", x)\n",
    "print(\"variable a predecir\", y)"
   ]
  },
  {
   "cell_type": "code",
   "execution_count": null,
   "metadata": {},
   "outputs": [],
   "source": [
    "#Ejercicio de Codigo\n",
    "def num_muestras_carac(X):\n",
    "    \"\"\"Esta funcion es encargada retornar el numero de muestras\n",
    "        y caracteristicas del conjunto de datos X\n",
    "\n",
    "        X: matriz numpy\n",
    "        retorna:\n",
    "            numero de muestras (int/float)\n",
    "            numero de caracteristicas (int/float)\n",
    "    \"\"\"\n",
    "    \n",
    "    return "
   ]
  },
  {
   "cell_type": "code",
   "execution_count": null,
   "metadata": {},
   "outputs": [],
   "source": [
    "## la funcion que prueba tu implementacion\n",
    "GRADER_LAB_1_P1.run_test(\"ejercicio1.1\", num_muestras_carac)"
   ]
  },
  {
   "cell_type": "code",
   "execution_count": null,
   "metadata": {},
   "outputs": [],
   "source": [
    "#@title Pregunta Abierta\n",
    "#@markdown  ¿que tipo de problema vamos a resolver?\n",
    "respuesta_1 = \" \" #@param {type:\"string\"}"
   ]
  },
  {
   "cell_type": "markdown",
   "metadata": {},
   "source": [
    "## Ejercicio 1.2\n",
    "\n",
    "Analice los siguientes métodos de la teoría  de modelos de  *regresión polinomial múltiple*:\n",
    "\n",
    "1. Error cuadrático medio (<font color='blue'>ECM</font>), \n",
    "2. Modelo de regresión múltiple (<font color='blue'>regression</font>)\n",
    "4. Gradiente descendente.\n",
    "\n",
    "La siguiente celda contiene la implementación del ECM y de la regression. Comprenda su funcionamiento y ejecute la celda para definir las funciones y poder usarlas."
   ]
  },
  {
   "cell_type": "code",
   "execution_count": null,
   "metadata": {},
   "outputs": [],
   "source": [
    "def ECM(Y,Y_est):\n",
    "    \"\"\"funcion para calcular el error cuadratico medio\n",
    "    Y_est: debe contener los valores predichos por el modelo evaluar\n",
    "    Y: debe contener los valores reales\n",
    "    retorna: error cuadratico medio\n",
    "    \"\"\"\n",
    "    N = np.size(Y)\n",
    "    ecm = np.sum((Y_est.reshape(N,1) - Y.reshape(N,1))**2)/(N)\n",
    "    return ecm \n",
    "\n",
    "def regression(X, W):\n",
    "    \"\"\"calcula la regresión multiple\n",
    "    X: los valores que corresponden a las caractersiticas\n",
    "    W: son los pesos usadados para realizar la regresión\n",
    "    retorna: valor estimado\n",
    "    \"\"\"    \n",
    "    Yest = np.dot(X,W)    #con np.dot se realiza el producto matricial. Aquí X es dim [Nxd] y W es dim [dx1]\n",
    "    return Yest           #Esta variable contiene la salida de f(X,W)"
   ]
  },
  {
   "cell_type": "markdown",
   "metadata": {},
   "source": [
    "De igual manera, debemos extender nuestro conjunto de datos."
   ]
  },
  {
   "cell_type": "code",
   "execution_count": null,
   "metadata": {},
   "outputs": [],
   "source": [
    "#Extendemos la matriz de X para incluir el término independiente\n",
    "def MatrizExtendida(X):\n",
    "    # par obtener el numero muestras y caractersiticas\n",
    "    muestras,carac = num_muestras_carac(X)\n",
    "    unos = np.array([np.ones(muestras)])\n",
    "    x_ext = np.concatenate((unos.T, X), axis=1)\n",
    "    x_ext = x_ext.reshape(muestras, carac+1)\n",
    "    return x_ext"
   ]
  },
  {
   "cell_type": "code",
   "execution_count": null,
   "metadata": {},
   "outputs": [],
   "source": [
    "## Ejercicio de codigo\n",
    "def gradiente_descendente(X, Y, eta, iteraciones):\n",
    "    \"\"\"Gradiente descendente para regresión lineal múltiple\n",
    "    X: Matriz de datos extendida\n",
    "    Y: vector con los valores a predecir\n",
    "    W: Vector de parámetros del modelo\n",
    "    eta: Taza de aprendizaje\n",
    "\n",
    "    retorna: W el valor de de los parametros de regresión polinomica\n",
    "    \"\"\"\n",
    "     \n",
    "    #Extendemos la matriz\n",
    "    X= MatrizExtendida(X)\n",
    "        \n",
    "    #Inicializamos el vector de parámetros con ceros y suamos la función\n",
    "    # para saber el numero de muestras y caractersiticas\n",
    "    \n",
    "    N, caracterisitcas = num_muestras_carac(X)\n",
    "    Y = Y.reshape(-1,1)\n",
    "    W = np.zeros((1,caracterisitcas))\n",
    "    W = W.reshape(np.size(W), 1)    \n",
    "\n",
    "    for iter in range(iteraciones):\n",
    "        ## Aca debes completar la funcion! recuerda que solo debes usar numpy (np.funcion_a_usar)\n",
    "        ## para actualizar los pesos W.\n",
    "        ## Pista: consulta que efecto tienen los parametros keepdims y axis en np.sum()\n",
    "\n",
    "        W = \n",
    "      \n",
    "    return W"
   ]
  },
  {
   "cell_type": "code",
   "execution_count": null,
   "metadata": {},
   "outputs": [],
   "source": [
    "## la funcion que prueba tu implementacion\n",
    "GRADER_LAB_1_P1.run_test(\"ejercicio1.2\", gradiente_descendente)"
   ]
  },
  {
   "cell_type": "markdown",
   "metadata": {},
   "source": [
    "## Ejercicio 1.3: Entrenamiento\n",
    "\n",
    "Con la función implementada vamos a entrenar un modelo y calcular su error de entrenamiento. Antes de realizar esto, debemos separar nuestro conjunto de datos."
   ]
  },
  {
   "cell_type": "code",
   "execution_count": null,
   "metadata": {},
   "outputs": [],
   "source": [
    "# esto para lograr reproductibilidad\n",
    "# de nuestro modelo\n",
    "y = y.reshape(np.size(y), 1)\n",
    "random.seed(1)\n",
    "# usamos nuestra funcion para obtener el numero de muestras\n",
    "N, _ = num_muestras_carac(x)\n",
    "ind=np.random.permutation(N)\n",
    "Xtrain = x[ind[0:int(math.ceil(0.7*N))],:]\n",
    "Xtest = x[ind[int(math.ceil(0.7*N)):N],:]\n",
    "Ytrain = y[ind[0:int(math.ceil(0.7*N))]]\n",
    "Ytest = y[ind[int(math.ceil(0.7*N)):N]]"
   ]
  },
  {
   "cell_type": "markdown",
   "metadata": {},
   "source": [
    "Ahora entrena ejecutando la siguiente linea de codigo"
   ]
  },
  {
   "cell_type": "code",
   "execution_count": null,
   "metadata": {},
   "outputs": [],
   "source": [
    "W = gradiente_descendente(Xtrain, Ytrain, eta = 0.0001, iteraciones=5)"
   ]
  },
  {
   "cell_type": "markdown",
   "metadata": {},
   "source": [
    "Vamos a evaluar nuestro modelo calculando el error cuadrático medio. Para ello vamos crear a una función. Recuerda usar las funciones definidas anteriormente."
   ]
  },
  {
   "cell_type": "code",
   "execution_count": null,
   "metadata": {},
   "outputs": [],
   "source": [
    "## Ejercicio de Código\n",
    "def evaluar_modelo (W, X_to_test, Y_True):\n",
    "    \"\"\" funcion que evalua un modelo de regresión usando el error cuadratico medio\n",
    "\n",
    "    W: es un matriz con los parametros del modelo entrenados\n",
    "    X_to_test: conjunto de datos para usar en el evaluamiento del modelo\n",
    "    Y_True: valores reales para usar en el evaluamiento del modelo\n",
    "\n",
    "    retorna: el error cuadratico medio\n",
    "    \"\"\"\n",
    "       \n",
    "    ## Comienza a completar tu codigo. recuerda usar la funciones ya definidas\n",
    "    \n",
    "    Y_est = \n",
    "    error = \n",
    "    return(error)"
   ]
  },
  {
   "cell_type": "code",
   "execution_count": null,
   "metadata": {},
   "outputs": [],
   "source": [
    "## la funcion que prueba tu implementacion\n",
    "GRADER_LAB_1_P1.run_test(\"ejercicio1.3\", evaluar_modelo)"
   ]
  },
  {
   "cell_type": "code",
   "execution_count": null,
   "metadata": {},
   "outputs": [],
   "source": [
    "# y ahora usala para calcular el error, para evaluar el modelo\n",
    "error_train = evaluar_modelo(W, X_to_test = MatrizExtendida(Xtrain),  Y_True = Ytrain)\n",
    "print(\"error en entrenamiento del modelo\", error_train)\n",
    "error_test = evaluar_modelo(W, X_to_test = MatrizExtendida(Xtest),  Y_True = Ytest)\n",
    "print(\"error en la evaluación del modelo\", error_test)"
   ]
  },
  {
   "cell_type": "markdown",
   "metadata": {},
   "source": [
    "## Ejercicio 1.4: \n",
    "\n",
    "Ahora aumentemos el grado del polinomio:"
   ]
  },
  {
   "cell_type": "code",
   "execution_count": null,
   "metadata": {},
   "outputs": [],
   "source": [
    "#Potencia de polinomio\n",
    "def potenciaPolinomio(X,grado):\n",
    "    \"\"\"calcula la potencia del polinomio\n",
    "    X: los valores que corresponden a las caractersiticas\n",
    "    grado: esl grado para realizar la potencia al polinomio\n",
    "    retorna: el valor de X despues elevarlo al grado del polinimoo indicado\n",
    "    \"\"\"\n",
    "    X2 = X.copy()\n",
    "    \n",
    "    if grado != 1:\n",
    "        for i in range(2,grado+1):\n",
    "            Xadd = X**i\n",
    "            X2 = np.concatenate((X2, Xadd), axis=1)\n",
    "    \n",
    "    return X2"
   ]
  },
  {
   "cell_type": "code",
   "execution_count": null,
   "metadata": {},
   "outputs": [],
   "source": [
    "## Ejercicio de codigo\n",
    "def gradiente_descendente_poly (X, Y, eta, iteraciones, grado):\n",
    "    \"\"\"Gradiente descendente para regresión lineal múltiple\n",
    "    X: Matriz de datos extendida\n",
    "    Y: vector con los valores a predecir\n",
    "    W: Vector de parámetros del modelo\n",
    "    eta: Taza de aprendizaje\n",
    "    iteraciones: numero de iteraciones maximo para el gradiente\n",
    "    grado: el valor del polinomio a usar\n",
    "    retorna: W el valor de de los parametros de regresión polinomica\n",
    "    \"\"\"\n",
    "    X2 = potenciaPolinomio(X,grado)\n",
    "    \n",
    "    ## completa el codigo\n",
    "    W = \n",
    "    return (W)\n",
    "\n",
    "def evaluar_modelo_poly (W, X_to_test, Y_True, grado):\n",
    "    \"\"\" funcion que evalua un modelo de regresión usando el error cuadratico medio\n",
    "\n",
    "    W: es un matriz con los parametros del modelo entrenados\n",
    "    X_to_test: conjunto de datos para usar en el evaluamiento del modelo\n",
    "    Y_True: valores reales para usar en el evaluamiento del modelo\n",
    "    grado: grado del polinimio a usar\n",
    "\n",
    "    retorna: el error cuadratico medio\n",
    "    \"\"\"\n",
    "    ## Comienza a completar tu codigo. recuerda usar la funciones ya definidas\n",
    "    X2 = \n",
    "    error = \n",
    "    return(error)"
   ]
  },
  {
   "cell_type": "code",
   "execution_count": null,
   "metadata": {},
   "outputs": [],
   "source": [
    "## la funcion que prueba tu implementacion\n",
    "GRADER_LAB_1_P1.run_test(\"ejercicio1.4\", gradiente_descendente_poly)\n",
    "GRADER_LAB_1_P1.run_test(\"ejercicio1.5\", evaluar_modelo_poly)"
   ]
  },
  {
   "cell_type": "code",
   "execution_count": null,
   "metadata": {},
   "outputs": [],
   "source": [
    "# entrenamos\n",
    "W = gradiente_descendente_poly(Xtrain, Ytrain, eta = 0.0001, iteraciones=2, grado = 2)"
   ]
  },
  {
   "cell_type": "code",
   "execution_count": null,
   "metadata": {},
   "outputs": [],
   "source": [
    "# evaluamos\n",
    "error_test = evaluar_modelo_poly(W, X_to_test = Xtest,  Y_True = Ytest, grado = 2)\n",
    "print(\"error en la evaluación del modelo\", error_test)"
   ]
  },
  {
   "cell_type": "markdown",
   "metadata": {},
   "source": [
    "## Ejercicio 1.5: \n",
    "\n",
    "Vamos a ejecutar el proceso para diferentes valores de los hiperparámetros tanto del modelo como del algoritmo."
   ]
  },
  {
   "cell_type": "code",
   "execution_count": null,
   "metadata": {},
   "outputs": [],
   "source": [
    "## ejercicio de codigo\n",
    "def experimentar (Xtrain, Xtest, Ytrain, Ytest, tasas, grados):\n",
    "    \"\"\" funcion para realizar experimentos.\n",
    "    Xtrain: conjunto de datos\n",
    "    Xtest:\n",
    "    Ytrain:\n",
    "    Ytest:\n",
    "    tasas: Es una lista con los valores númericos de tasas de aprendizaje \n",
    "        para realizar los experimentos\n",
    "    grados: Es una lista con los valores númericos de grados \n",
    "        para realizar los experimentos\n",
    "    retorna: un dataframe con el resultados de los experimentos\n",
    "    \"\"\"\n",
    "    numero_iter = 5\n",
    "\n",
    "    resultados = pd.DataFrame()\n",
    "    idx = 0 # indice\n",
    "    for eta in tasas:\n",
    "        for grado in grados:\n",
    "\n",
    "            W = gradiente_descendente_poly (Xtrain, Ytrain, eta, numero_iter, grado)\n",
    "            error = evaluar_modelo_poly (W, Xtest, Ytest, grado)\n",
    "        \n",
    "            resultados.loc[idx,'grado'] = grado\n",
    "            resultados.loc[idx,'tasa de aprendizaje'] = eta\n",
    "            resultados.loc[idx,'ecm'] = error\n",
    "            idx = idx+1\n",
    "\n",
    "    return (resultados)"
   ]
  },
  {
   "cell_type": "code",
   "execution_count": null,
   "metadata": {},
   "outputs": [],
   "source": [
    "## la funcion que prueba tu implementacion\n",
    "GRADER_LAB_1_P1.run_test(\"ejercicio1.6\", experimentar)"
   ]
  },
  {
   "cell_type": "code",
   "execution_count": null,
   "metadata": {},
   "outputs": [],
   "source": [
    "## Ahora usa para verlos los resultados\n",
    "tasas_aprendizaje = [1e-6, 1e-5, 1e-3, 1e-2]\n",
    "grados_polinomio = [1,2,3]\n",
    "resultados_ex1 = experimentar(Xtrain, Xtest, Ytrain, Ytest, tasas_aprendizaje, grados_polinomio)"
   ]
  },
  {
   "cell_type": "code",
   "execution_count": null,
   "metadata": {},
   "outputs": [],
   "source": [
    "#para ver los resultados\n",
    "resultados_ex1"
   ]
  },
  {
   "cell_type": "markdown",
   "metadata": {},
   "source": [
    "Si has implementado todo correctamente, parecieria que nuestros entrenamientos no esta logrando buenos resultados (hasta puede haber errores infinitos! o no determinados!). \n",
    "\n",
    "Ahora normalicemos los datos:"
   ]
  },
  {
   "cell_type": "code",
   "execution_count": 5,
   "metadata": {},
   "outputs": [],
   "source": [
    "#Normalizamos los datos\n",
    "from sklearn.preprocessing import StandardScaler\n",
    "def normalizar(Xtrain):\n",
    "    \"\"\" función que se usa para normalizar los datos con\n",
    "    un metodo especifico\n",
    "    Xtrain: matriz de datos entrenamiento a normalizar\n",
    "    Xtest: matriz de datos evaluación a normalizar\n",
    "    retorna: matrices normalizadas\n",
    "    \"\"\"\n",
    "    scaler = StandardScaler().fit(Xtrain)\n",
    "    Xtrain_n = scaler.transform(Xtrain)\n",
    "\n",
    "    return Xtrain_n, scaler"
   ]
  },
  {
   "cell_type": "code",
   "execution_count": 6,
   "metadata": {},
   "outputs": [
    {
     "data": {
      "text/plain": [
       "(array([[-1., -1.],\n",
       "        [ 1.,  1.]]), StandardScaler())"
      ]
     },
     "execution_count": 6,
     "metadata": {},
     "output_type": "execute_result"
    }
   ],
   "source": [
    "normalizar(np.array([[1,2],[2,4]]))"
   ]
  },
  {
   "cell_type": "markdown",
   "metadata": {},
   "source": [
    "Definimos nuevamente los funciones gradiente_descendente_poly y evaluar_modelo_poly para tener en cuenta la normalización:"
   ]
  },
  {
   "cell_type": "code",
   "execution_count": null,
   "metadata": {},
   "outputs": [],
   "source": [
    "## Ejercicio de codigo\n",
    "def gradiente_descendente_poly (X, Y, eta, iteraciones, grado):\n",
    "    \"\"\"Gradiente descendente para regresión lineal múltiple\n",
    "    X: Matriz de datos extendida\n",
    "    Y: vector con los valores a predecir\n",
    "    W: Vector de parámetros del modelo\n",
    "    eta: Taza de aprendizaje\n",
    "    iteraciones: numero de iteraciones maximo para el gradiente\n",
    "    grado: el valor del polinomio a usar\n",
    "    retorna: W el valor de de los parametros de regresión polinomica y el scaler para normalizar muestras de test\n",
    "    \"\"\"\n",
    "    X2 = potenciaPolinomio(X,grado)\n",
    "    \n",
    "    ## completa el codigo\n",
    "    \n",
    "    X2_n,scaler = \n",
    "    \n",
    "    W = \n",
    "    return W,scaler\n",
    "\n",
    "def evaluar_modelo_poly (W, X_to_test, Y_True, grado, scaler):\n",
    "    \"\"\" funcion que evalua un modelo de regresión usando el error cuadratico medio\n",
    "\n",
    "    W: es un matriz con los parametros del modelo entrenados\n",
    "    X_to_test: conjunto de datos para usar en el evaluamiento del modelo\n",
    "    Y_True: valores reales para usar en el evaluamiento del modelo\n",
    "    grado: grado del polinimio a usar\n",
    "\n",
    "    retorna: el error cuadratico medio\n",
    "    \"\"\"\n",
    "    ## Comienza a completar tu codigo. recuerda usar la funciones ya definidas\n",
    "    X2 = \n",
    "    \n",
    "    error = evaluar_modelo (W, MatrizExtendida(X2), Y_True)\n",
    "    return(error)"
   ]
  },
  {
   "cell_type": "markdown",
   "metadata": {},
   "source": [
    "Ahora vuelve a realizar los mismos experimentos pero esta vez usa los valores de salida de la función anterior."
   ]
  },
  {
   "cell_type": "code",
   "execution_count": null,
   "metadata": {},
   "outputs": [],
   "source": [
    "## ejercicio de codigo\n",
    "def experimentar (Xtrain, Xtest, Ytrain, Ytest, tasas, grados):\n",
    "    \"\"\" funcion para realizar experimentos.\n",
    "    Xtrain: conjunto de datos\n",
    "    Xtest:\n",
    "    Ytrain:\n",
    "    Ytest:\n",
    "    tasas: Es una lista con los valores númericos de tasas de aprendizaje \n",
    "        para realizar los experimentos\n",
    "    grados: Es una lista con los valores númericos de grados \n",
    "        para realizar los experimentos\n",
    "    retorna: un dataframe con el resultados de los experimentos\n",
    "    \"\"\"\n",
    "    numero_iter = 5\n",
    "\n",
    "    resultados = pd.DataFrame()\n",
    "    idx = 0 # indice\n",
    "    for eta in tasas:\n",
    "        for grado in grados:\n",
    "\n",
    "            W,scaler = \n",
    "            error = \n",
    "        \n",
    "            resultados.loc[idx,'grado'] = grado\n",
    "            resultados.loc[idx,'tasa de aprendizaje'] = eta\n",
    "            resultados.loc[idx,'ecm'] = error\n",
    "            idx = idx+1\n",
    "\n",
    "    return (resultados)"
   ]
  },
  {
   "cell_type": "code",
   "execution_count": null,
   "metadata": {},
   "outputs": [],
   "source": [
    "resultados_ex2 = experimentar(Xtrain, Xtest, Ytrain, Ytest, tasas_aprendizaje, grados_polinomio)\n",
    "#para ver los resultados\n",
    "resultados_ex2"
   ]
  },
  {
   "cell_type": "code",
   "execution_count": null,
   "metadata": {},
   "outputs": [],
   "source": [
    "#@title Pregunta Abierta\n",
    "#@markdown  ¿Qué proceso hace la normalización sobre los datos? Consulte por qué es necesaria la normalización en el modelo de regresión y cuáles son los tipos de normalización más comunes. ¿Cuál de ellos se aplicó en el laboratorio?\n",
    "respuesta_2 = \"\" #@param {type:\"string\"}"
   ]
  },
  {
   "cell_type": "code",
   "execution_count": null,
   "metadata": {},
   "outputs": [],
   "source": [
    "# Grafiquemos algunos resultados\n",
    "import seaborn as sns\n",
    "s = sns.catplot(data = resultados_ex2, x = 'tasa de aprendizaje',\n",
    "            y = 'ecm',hue ='grado', kind = 'bar', )\n",
    "s.set(yscale=\"log\")"
   ]
  },
  {
   "cell_type": "markdown",
   "metadata": {},
   "source": [
    "## Ejercicio 1.6: \n",
    "\n",
    "Veamos ahora el efecto del número de iteraciones:"
   ]
  },
  {
   "cell_type": "code",
   "execution_count": null,
   "metadata": {},
   "outputs": [],
   "source": [
    "## ejercicio de codigo\n",
    "def experimentar_2 (Xtrain, Xtest, Ytrain, Ytest, iteraciones, grados):\n",
    "    \"\"\" funcion para realizar experimentos.\n",
    "    Xtrain: conjunto de datos\n",
    "    Xtest:\n",
    "    Ytrain:\n",
    "    Ytest:\n",
    "    tasas: Es una lista con los valores númericos de tasas de aprendizaje \n",
    "        para realizar los experimentos\n",
    "    rangos: Es una lista con los valores númericos de grados \n",
    "        para realizar los experimentos\n",
    "    retorna: un dataframe con el resultados de los experimentos\n",
    "    \"\"\"\n",
    "    eta = 1e-2\n",
    "    resultados = pd.DataFrame()\n",
    "    idx = 0 # indice\n",
    "    for itera in iteraciones:\n",
    "        for grado in grados:\n",
    "            W,scaler = \n",
    "            error = \n",
    "        \n",
    "            resultados.loc[idx,'iteraciones'] = itera\n",
    "            resultados.loc[idx,'grado'] = grado\n",
    "            resultados.loc[idx,'ecm'] = error\n",
    "            idx = idx+1\n",
    "    return (resultados)"
   ]
  },
  {
   "cell_type": "code",
   "execution_count": null,
   "metadata": {},
   "outputs": [],
   "source": [
    "## la funcion que prueba tu implementacion\n",
    "GRADER_LAB_1_P1.run_test(\"ejercicio1.7\", experimentar_2)"
   ]
  },
  {
   "cell_type": "code",
   "execution_count": null,
   "metadata": {},
   "outputs": [],
   "source": [
    "num_iters = [1,5,10,20,50, 100,200]\n",
    "grados_polinomio = [1,2,3]\n",
    "# usamos la funcion para evaliar los resultados\n",
    "resultados_ex3 = experimentar_2(Xtrain, Xtest, Ytrain, Ytest, num_iters, grados_polinomio )"
   ]
  },
  {
   "cell_type": "code",
   "execution_count": null,
   "metadata": {},
   "outputs": [],
   "source": [
    "resultados_ex3"
   ]
  },
  {
   "cell_type": "code",
   "execution_count": null,
   "metadata": {},
   "outputs": [],
   "source": [
    "# ejecuta esta linea de codigo para ver graficamente tus resultados\n",
    "import seaborn as sns\n",
    "sns.relplot(data = resultados_ex3, x = 'iteraciones',y = 'ecm',col ='grado', kind = 'line')"
   ]
  },
  {
   "cell_type": "code",
   "execution_count": null,
   "metadata": {},
   "outputs": [],
   "source": [
    "GRADER_LAB_1_P1.check_tests()"
   ]
  },
  {
   "cell_type": "code",
   "execution_count": null,
   "metadata": {},
   "outputs": [],
   "source": [
    "#@title Integrantes\n",
    "codigo_integrante_1 ='' #@param {type:\"string\"}"
   ]
  },
  {
   "cell_type": "markdown",
   "metadata": {},
   "source": [
    "----\n",
    "Esta linea de codigo es de uso exclusivo del los profesores"
   ]
  },
  {
   "cell_type": "code",
   "execution_count": null,
   "metadata": {},
   "outputs": [],
   "source": [
    "GRADER_LAB_1_P1.grade()"
   ]
  },
  {
   "cell_type": "markdown",
   "metadata": {
    "colab_type": "text",
    "id": "X0kgAjuBYySp"
   },
   "source": [
    "## Taller - Parte 2\n",
    "\n",
    "**Regresión logística**\n",
    "\n"
   ]
  },
  {
   "cell_type": "code",
   "execution_count": 1,
   "metadata": {},
   "outputs": [
    {
     "name": "stdout",
     "output_type": "stream",
     "text": [
      "lab configuration started\n",
      "installing libraries\n",
      "downloading files\n",
      "lab configured\n",
      "cargando librerias y variables al ambiente\n"
     ]
    }
   ],
   "source": [
    "from local.lib.general import configure_lab1_p2\n",
    "configure_lab1_p2()\n",
    "from local.lib.lab1 import *\n",
    "GRADER, x, y = part_2()"
   ]
  },
  {
   "cell_type": "markdown",
   "metadata": {
    "colab_type": "text",
    "id": "e0gwFeCnYySq"
   },
   "source": [
    "## Ejercicio 2.1: Contextualización del problema\n",
    "\n",
    "En esta sesión de laboratorio, vamos a resolver un problema de clasificación. Los variables que vamos a usar ya se encuentran cargadas:\n",
    "\n"
   ]
  },
  {
   "cell_type": "code",
   "execution_count": 2,
   "metadata": {
    "colab": {},
    "colab_type": "code",
    "id": "A-jBTrc4YySq",
    "tags": []
   },
   "outputs": [
    {
     "name": "stdout",
     "output_type": "stream",
     "text": [
      "conjunto de datos, muestra \n",
      " [[ 3.92606402 -6.83699086]\n",
      " [ 7.43382787 -3.7485991 ]\n",
      " [ 6.20553473  4.77182668]\n",
      " [ 6.77983287 -3.07765299]\n",
      " [-5.92614125 -4.87588843]\n",
      " [ 7.49283136  3.9516693 ]\n",
      " [-1.65572633  6.86081477]\n",
      " [-8.14881988 -1.85421149]\n",
      " [ 8.12616581 -1.66701921]\n",
      " [ 9.73411311 -1.63724335]]\n",
      "\n",
      " muestra de etiquetas a predecir \n",
      " [[1]\n",
      " [1]\n",
      " [1]\n",
      " [1]\n",
      " [1]\n",
      " [1]\n",
      " [1]\n",
      " [1]\n",
      " [1]\n",
      " [1]]\n"
     ]
    }
   ],
   "source": [
    "# tienes ya cargadas las siguientes variables:\n",
    "print(\"conjunto de datos, muestra \\n\",x[range(10), :] )\n",
    "print(\"\")\n",
    "print(\" muestra de etiquetas a predecir \\n\", y[range(10)])"
   ]
  },
  {
   "cell_type": "code",
   "execution_count": null,
   "metadata": {
    "colab": {},
    "colab_type": "code",
    "id": "5lvqd4i0YySs"
   },
   "outputs": [],
   "source": [
    "#Ejercicio de Codigo\n",
    "def clases_muestras_carac(X, Y):\n",
    "    \"\"\"Esta funcion es encargada retornar el numero clases, muestras \n",
    "        y caracteristicas del conjunto de datos X y Y\n",
    "\n",
    "        X: matriz numpy con el conjunto de datos para entrenamiento\n",
    "        Y: matriz numpy con el conjunto de etiquetas\n",
    "        retorna:\n",
    "            numero de muestras (int/float)\n",
    "            numero de caracteristicas (int/float)\n",
    "            numero de clases (int/float)\n",
    "    \"\"\"\n",
    "    ##Pista: es de utilidad el metodo np.unique ?\n",
    "    N,nf = \n",
    "    clases = \n",
    "    \n",
    "    return (N,nf,clases)"
   ]
  },
  {
   "cell_type": "code",
   "execution_count": null,
   "metadata": {
    "colab": {},
    "colab_type": "code",
    "id": "jBS6kWmkYySu",
    "tags": []
   },
   "outputs": [],
   "source": [
    "## la funcion que prueba tu implementacion\n",
    "GRADER.run_test(\"ejercicio2.1\", clases_muestras_carac)"
   ]
  },
  {
   "cell_type": "markdown",
   "metadata": {
    "colab_type": "text",
    "id": "I8zabv6IYySw"
   },
   "source": [
    "En los problemas de clasificación, que lo permiten, es de utilidad visualizar los datos. De esta manera uno puede determinar que modelos o algortimos pueden tener mejor rendimiento. En la siguiente función, debera, graficar los datos usando la función [scatter](https://matplotlib.org/gallery/shapes_and_collections/scatter.html) de matplotlib."
   ]
  },
  {
   "cell_type": "code",
   "execution_count": 3,
   "metadata": {
    "colab": {},
    "colab_type": "code",
    "id": "xjiRibSVYySw"
   },
   "outputs": [],
   "source": [
    "def scatter_plot(X, Y):\n",
    "    \"\"\"Esta funcion es encargada de graficar usando un scatter plot\n",
    "       un problema de clasificacion.\n",
    "\n",
    "        X: matriz numpy con el conjunto de datos para entrenamiento.\n",
    "           esta debera ser usada para los ejes del grafico. puede asumir\n",
    "           que solo va a tener dos columnas\n",
    "        Y: matriz numpy con el conjunto de etiquetas. Debera ser usada\n",
    "           para mostrar en diferentes colores, las etiquetas de cada una\n",
    "           de las muestras\n",
    "        retorna:\n",
    "            grafica matplotlib\n",
    "    \"\"\"\n",
    "    ## puedes accerder con plt al funcion adecuacada\n",
    "    ## Pista: recuerda como indexar matrices\n",
    "    ## Pista: recuerda el uso de np.ravel\n",
    "    # para mostrar el grafico\n",
    "    figure = plt.gcf()\n",
    "    Y = Y.flatten()\n",
    "    clases = np.unique(Y)\n",
    "    for i in clases:\n",
    "        plt.scatter(X[Y==i,0],X[Y==i,1],label='Clase_'+str(i))\n",
    "    plt.legend()\n",
    "    plt.show()\n",
    "   \n",
    "    #return (figure)"
   ]
  },
  {
   "cell_type": "code",
   "execution_count": 4,
   "metadata": {},
   "outputs": [
    {
     "data": {
      "image/png": "[encoded data removed]",
      "text/plain": [
       "<Figure size 432x288 with 1 Axes>"
      ]
     },
     "metadata": {
      "needs_background": "light"
     },
     "output_type": "display_data"
    }
   ],
   "source": [
    "scatter_plot(x, y)"
   ]
  },
  {
   "cell_type": "code",
   "execution_count": null,
   "metadata": {
    "cellView": "form",
    "colab": {},
    "colab_type": "code",
    "id": "sq2e7UwwYyS2"
   },
   "outputs": [],
   "source": [
    "#@title Pregunta Abierta\n",
    "#@markdown  ¿El problema es linealmente separable? justifique su respuesta \n",
    "respuesta_3 = \"\" #@param {type:\"string\"}"
   ]
  },
  {
   "cell_type": "markdown",
   "metadata": {
    "colab_type": "text",
    "id": "UYCpYnI0YyS4"
   },
   "source": [
    "## Ejercicio 2.2: entrenamiento\n",
    "\n",
    "En esta sección se va a realizar un procedimiento análogo a la parte 1, pero con el modelo de *regresión logística* que sirve para resolver problemas de clasificación (en principio biclase).\n",
    "\n",
    "Analice los siguientes métodos a la luz de la teoría vista para el modelo de regresión logística: \n",
    "\n",
    "1. función de activación (<font color='blue'>sigmoidal</font>),\n",
    "2.  modelo de regresión logística (<font color='blue'>logistic_regression</font>), \n",
    "3. potencia del polinomio \n",
    "4.  el cálculo del error en clasificación (<font color='blue'>error_logistic</font>)\n",
    "5. el gradiente descendente. \n",
    "\n",
    "Luego de recordar estos conceptos. Complete la función sigmoidal:"
   ]
  },
  {
   "cell_type": "code",
   "execution_count": null,
   "metadata": {
    "colab": {},
    "colab_type": "code",
    "id": "WAQAglStYyS4"
   },
   "outputs": [],
   "source": [
    "#Ejercicio de Código\n",
    "def sigmoidal(z):\n",
    "    \"\"\"Función de activación Sigmoidal\n",
    "\n",
    "    z: es la varible a la que se le va aplicar el sigmoide.\n",
    "       es un array numpy de uan sola dimension\n",
    "    retorna: el valor del sigmiode\n",
    "\n",
    "    \"\"\"\n",
    "    #Complete la siguiente línea con el código para calcular la salida de la función sigmoidal\n",
    "    s = \n",
    "    \n",
    "    return s"
   ]
  },
  {
   "cell_type": "code",
   "execution_count": null,
   "metadata": {
    "colab": {},
    "colab_type": "code",
    "id": "hiui_rfgYyS6",
    "tags": []
   },
   "outputs": [],
   "source": [
    "## la funcion que prueba tu implementacion\n",
    "GRADER.run_test(\"ejercicio2.3\", sigmoidal)"
   ]
  },
  {
   "cell_type": "markdown",
   "metadata": {
    "colab_type": "text",
    "id": "6t8dJoLfYyS7"
   },
   "source": [
    "El la siguiente celda se sugiere la implementación, de los siguientes conceptos:\n",
    "\n",
    "1. modelo de regresión logística (<font color='blue'>logistic_regression</font>), \n",
    "2. potencia del polinomio \n",
    "3.  el cálculo del error en clasificación (<font color='blue'>error_logistic</font>)\n",
    "\n",
    "comprenda que hacen estas funciones y ejecute la celda para cargar las funciones, para porder usarlas"
   ]
  },
  {
   "cell_type": "code",
   "execution_count": null,
   "metadata": {
    "colab": {},
    "colab_type": "code",
    "id": "u-yCVeVQYyS8"
   },
   "outputs": [],
   "source": [
    "def logistic_regression(X, W):\n",
    "    \"\"\"calcula la regresión logistica\n",
    "    X: los valores que corresponden a las caractersiticas\n",
    "    W: son los pesos usadados para realizar la regresión\n",
    "    retorna: valor estimado por la regresion\n",
    "    \"\"\"\n",
    "    #Con np.dot se realiza el producto matricial. Aquí X (extendida) tiene dim [Nxd] y W es dim [dx1]\n",
    "    Yest = np.dot(X,W)\n",
    "    Y_lest = sigmoidal(Yest)\n",
    "        \n",
    "    return Y_lest    \n",
    "\n",
    "def error_logistic(Y_lest, Y):\n",
    "    \"\"\"calculo del error logistico\n",
    "       Si es diferente el Y_estimado con el Y_real cuenta como un error\n",
    "       Y_lest: numpy array con los valores de etiquetas estimadas\n",
    "       Y:  numpy array  valor con los valores reales de las etiquetas\n",
    "       retorna: error de clasificación -- numpy array\n",
    "    \"\"\"\n",
    "    error = 0\n",
    "    for ye, y in zip(Y_lest, Y):\n",
    "        if ye != y:\n",
    "            error += 1\n",
    "    \n",
    "    error = error/np.size(Y)\n",
    "\n",
    "    return error"
   ]
  },
  {
   "cell_type": "code",
   "execution_count": null,
   "metadata": {
    "colab": {},
    "colab_type": "code",
    "id": "qGIrWUZoYyS-"
   },
   "outputs": [],
   "source": [
    "#Aca llamamos la funcion creada anteriormente\n",
    "# para obtener el numero muestras y caractersiticas\n",
    "muestras,caracterisitcas,num_clases = clases_muestras_carac(x, y)\n",
    "y = y.reshape(np.size(y), 1)"
   ]
  },
  {
   "cell_type": "markdown",
   "metadata": {
    "colab_type": "text",
    "id": "P6rbFHQxYyS_"
   },
   "source": [
    "Recordando lo aprendido anteriormente, dividimos nuestro cojunto de datos y normalizamos. Ahora usamos una aproximación de un poco más alto nivel."
   ]
  },
  {
   "cell_type": "code",
   "execution_count": null,
   "metadata": {
    "colab": {},
    "colab_type": "code",
    "id": "8F2NBNVwYyTA"
   },
   "outputs": [],
   "source": [
    "#Dejamos algunas muestras para el proceso de entrenamiento y otras para evaluar qué tan bueno fue el aprendizaje del modelo\n",
    "from sklearn.model_selection import train_test_split\n",
    "random.seed(1)\n",
    "Xtrain, Xtest, Ytrain, Ytest = train_test_split(x, y, test_size=0.3, random_state=1)"
   ]
  },
  {
   "cell_type": "markdown",
   "metadata": {
    "colab_type": "text",
    "id": "NX9X-ocwYyTC"
   },
   "source": [
    "Ahora vamos a completar el código de la regla de actualización de los parámetros del algoritmo de <font color='blue'>gradiente_descedente</font>. Adicionalmente, dentro de nuestra función, **vamos incluir una transformación polinómica**.\n",
    "\n",
    "Nota: Para el problema de clasificación tenga presente que si ya implementó la regla de actualización de parámetros para el modelo de regresión polinomial múltiple, este punto es trivial, puesto que sólo tiene que incluir la función sigmoidal tal como lo vimos en la teoría."
   ]
  },
  {
   "cell_type": "code",
   "execution_count": null,
   "metadata": {
    "colab": {},
    "colab_type": "code",
    "id": "zLtR3kdKYyTC"
   },
   "outputs": [],
   "source": [
    "#ejercicio de codigo\n",
    "def gradiente_descendente_logistic_poly(X,Y,grado,eta, iteraciones):\n",
    "    \"\"\"Gradiente descendente para regresión lineal múltiple\n",
    "    X: Matriz de datos extendida\n",
    "    Y: vector con los valores a predecir\n",
    "    W: Vector de parámetros del modelo\n",
    "    eta: Taza de aprendizaje\n",
    "    grado: grado para usar en la transformacion polinomica\n",
    "    iteraciones: numero de iteraciones maxima\n",
    "\n",
    "    retorna: W el valor de de los parametros de regresión polinomica\n",
    "    \"\"\"\n",
    "    Y = Y.reshape(-1,1)\n",
    "    \n",
    "    #Extendemos las variables para usar polinomios de grado superior\n",
    "    X2 = potenciaPolinomio(X,grado)\n",
    "    \n",
    "    #Normalizamos\n",
    "    X2_n,scaler = \n",
    "    \n",
    "    #Extendemos la matriz\n",
    "    X2_n= \n",
    "    \n",
    "    #Tomamos el número de variables del problema leugo de la transformacion\n",
    "    d = np.size(X2_n,1)\n",
    "    #Tomamos el número de muestras de la base de datos\n",
    "    N = np.size(X2_n,0)   \n",
    "    #Inicializamos el vector de parámetros\n",
    "    W = np.zeros(d)\n",
    "    W = W.reshape(np.size(W),1)\n",
    "   \n",
    "   \n",
    "    for iter in range(iteraciones):\n",
    "       \n",
    "        #Aquí debe completar el código con la regla de actualización de los parámetros W para regresión\n",
    "        #logística. Tenga en cuenta los nombres de las variables ya creadas\n",
    "        Y_estimado = logistic_regression(X2_n,W)\n",
    "\n",
    "        W = \n",
    "\n",
    "\n",
    "    #Error en clasificación  \n",
    "    Y_estimado = np.round(logistic_regression(X2_n,W))\n",
    "    error_clasificacion = error_logistic(Y_estimado,Y)\n",
    "    print(\"error despues de finalizar la iteraciones\", error_clasificacion)\n",
    "    return W, scaler"
   ]
  },
  {
   "cell_type": "code",
   "execution_count": null,
   "metadata": {
    "colab": {},
    "colab_type": "code",
    "id": "lhrk1KyYYyTE",
    "tags": []
   },
   "outputs": [],
   "source": [
    "## la funcion que prueba tu implementacion\n",
    "GRADER.run_test(\"ejercicio2.4\", gradiente_descendente_logistic_poly)"
   ]
  },
  {
   "cell_type": "markdown",
   "metadata": {
    "colab_type": "text",
    "id": "pjpTN71aYyTF"
   },
   "source": [
    "Finalmente se sugiere la siguiente funcion para evaluar el error del modelo. Entienda su funcionamiento."
   ]
  },
  {
   "cell_type": "code",
   "execution_count": null,
   "metadata": {
    "colab": {},
    "colab_type": "code",
    "id": "DhbCT0H0YyTG"
   },
   "outputs": [],
   "source": [
    "def evaluar_modelo (W, X_to_test, Y_True, grado,scaler):\n",
    "    \"\"\" funcion que evalua un modelo de regresión usando el error cuadratico medio\n",
    "\n",
    "    W: es un matriz con los parametros del modelo entrenados\n",
    "    X_to_test: conjunto de datos para usar en el evaluamiento del modelo\n",
    "    Y_True: valores reales para usar en el evaluamiento del modelo\n",
    "    grado: valor del polinomio a usar\n",
    "\n",
    "    retorna: el de clasificación.\n",
    "    \"\"\"\n",
    "    X2 = potenciaPolinomio(X_to_test,grado)\n",
    "    X2 = scaler.transform(X2)\n",
    "    \n",
    "    Y_estimado = np.round(logistic_regression(MatrizExtendida(X2),W))\n",
    "    error_clasificacion = error_logistic(Y_estimado,Y_True)\n",
    "    return(error_clasificacion)\n"
   ]
  },
  {
   "cell_type": "markdown",
   "metadata": {
    "colab_type": "text",
    "id": "EhaV3W7IYyTH"
   },
   "source": [
    "## Ejercicio 2.3: Experimentar\n",
    "\n",
    "Con la función implementada vamos a entrenar un modelo y calcular su error de entrenamiento"
   ]
  },
  {
   "cell_type": "code",
   "execution_count": null,
   "metadata": {
    "colab": {},
    "colab_type": "code",
    "id": "7wwIVbTDYyTI",
    "tags": []
   },
   "outputs": [],
   "source": [
    "w, scaler = gradiente_descendente_logistic_poly(Xtrain,Ytrain,1,0.0001, 1000)\n",
    "error_test = evaluar_modelo(w, Xtest, Ytest, 1, scaler)\n",
    "print(\"error en el conjunto de pruebas\", error_test)"
   ]
  },
  {
   "cell_type": "markdown",
   "metadata": {
    "colab_type": "text",
    "id": "bH00WKqYYyTJ"
   },
   "source": [
    "En nuestro primer experimento vamos a evaluar el rendimiento del modelo usando varias tasas de aprendizaje y grados de polinimios. Vamos a dejar por ahora un numero de iteraciones fijas = 50. Para ello completa la siguiente función."
   ]
  },
  {
   "cell_type": "code",
   "execution_count": null,
   "metadata": {
    "colab": {},
    "colab_type": "code",
    "id": "2L4aHWL4YyTK"
   },
   "outputs": [],
   "source": [
    "## ejercicio de codigo\n",
    "def experimentar (Xtrain, Xtest, Ytrain, Ytest, tasas, grados):\n",
    "    \"\"\" funcion para realizar experimentos.\n",
    "    Xtrain: conjunto de datos\n",
    "    Xtest:\n",
    "    Ytrain:\n",
    "    Ytest:\n",
    "    tasas: Es una lista con los valores númericos de tasas de aprendizaje \n",
    "        para realizar los experimentos\n",
    "    grados: Es una lista con los valores númericos de grados \n",
    "        para realizar los experimentos\n",
    "    retorna: un dataframe con el resultados de los experimentos\n",
    "    \"\"\"\n",
    "    numero_iter = 50\n",
    "\n",
    "    resultados = pd.DataFrame()\n",
    "    idx = 0 # indice\n",
    "    for eta in tasas:\n",
    "        for grado in grados:\n",
    "            W,scaler = \n",
    "            error_entrenamiento = \n",
    "            error_prueba = \n",
    "                        \n",
    "            resultados.loc[idx,'grado'] = grado\n",
    "            resultados.loc[idx,'tasa de aprendizaje'] = eta\n",
    "            resultados.loc[idx,'error_entreamiento'] = error_entrenamiento\n",
    "            resultados.loc[idx,'error_prueba'] = error_prueba\n",
    "            idx = idx+1\n",
    "\n",
    "    return (resultados)"
   ]
  },
  {
   "cell_type": "code",
   "execution_count": null,
   "metadata": {
    "colab": {},
    "colab_type": "code",
    "id": "n4Y2qwvnYyTL",
    "tags": []
   },
   "outputs": [],
   "source": [
    "## la funcion que prueba tu implementacion\n",
    "GRADER.run_test(\"ejercicio2.5\", experimentar)"
   ]
  },
  {
   "cell_type": "code",
   "execution_count": null,
   "metadata": {
    "colab": {},
    "colab_type": "code",
    "id": "PNZ702IVYyTN",
    "tags": []
   },
   "outputs": [],
   "source": [
    "tasas = [1,0.1,0.001]\n",
    "grados = [1,2,3,4,5]\n",
    "resultados = experimentar (Xtrain, Xtest, Ytrain, Ytest, tasas, grados)"
   ]
  },
  {
   "cell_type": "code",
   "execution_count": null,
   "metadata": {
    "colab": {},
    "colab_type": "code",
    "id": "i0S18dT2YyTO"
   },
   "outputs": [],
   "source": [
    "# para ver los resultados\n",
    "resultados"
   ]
  },
  {
   "cell_type": "code",
   "execution_count": null,
   "metadata": {
    "cellView": "form",
    "colab": {},
    "colab_type": "code",
    "id": "2o0zE_e7YyTS"
   },
   "outputs": [],
   "source": [
    "#@title Pregunta Abierta\n",
    "#@markdown  ¿con base a los resultados anteriores, qué efecto tiene el grado en los errores de entrenamiento y de prueba? justifique\n",
    "respuesta_4 = \"\" #@param {type:\"string\"}"
   ]
  },
  {
   "cell_type": "code",
   "execution_count": null,
   "metadata": {
    "cellView": "form",
    "colab": {},
    "colab_type": "code",
    "id": "Z8waNHm0YyTT"
   },
   "outputs": [],
   "source": [
    "#@title Pregunta Abierta\n",
    "#@markdown  ¿es normal que los errores de entrenamiento y prueba sean diferentes? justifique\n",
    "respuesta_5 = \"\" #@param {type:\"string\"}"
   ]
  },
  {
   "cell_type": "code",
   "execution_count": null,
   "metadata": {
    "colab": {},
    "colab_type": "code",
    "id": "mnhcuVcTYyTV"
   },
   "outputs": [],
   "source": [
    "def numero_de_errores (W, X, Y, grado, scaler):\n",
    "    \"\"\"función que cuenta los errores de un modelo de regresión logistica\n",
    "    W: vector con los parametros de un modelo de regresión logistica\n",
    "       previamente entrenado\n",
    "    X: conjunto de datos a usar (numpy matrix)\n",
    "    Y: conjunto con las etiquetas verdaderas. (numpy array)\n",
    "    grado: grado usado en el modelo de regresión logistica\n",
    "    retorna: numero de errores (int/float) \n",
    "            (es decir el numero de veces que la etiqueta predicha es diferente a la etiqueta real)\n",
    "    \"\"\"\n",
    "    X2 = potenciaPolinomio(X,grado)\n",
    "    X2 = scaler.transform(X2)\n",
    "    Y_estimado = np.round(logistic_regression(MatrizExtendida(X2),W))\n",
    "    numero_errores = np.sum(Y_estimado!=Y)\n",
    "\n",
    "    return numero_errores\n"
   ]
  },
  {
   "cell_type": "markdown",
   "metadata": {
    "colab_type": "text",
    "id": "T-bRi6p6YyTY"
   },
   "source": [
    "Ahora, use las funciones que ha creado, entrene nuevamente un modelo con los mejores parametros obtenidos y calcule cuantas muestras quedaron mal clasificadas tanto en el conjunto de entrenamiento, como en el de prueba. Use la función numero_de_errores.\n",
    "\n",
    "Si hay parametros empatados, el modelo que tenga menos parametros deberia ser el mejor."
   ]
  },
  {
   "cell_type": "code",
   "execution_count": null,
   "metadata": {
    "colab": {},
    "colab_type": "code",
    "id": "v-LG4-DhYyTY"
   },
   "outputs": [],
   "source": [
    "# Puede usar el siguiente código para ordenar los resultados y ver los 3 primeros\n",
    "# resultados, use esta salida para ver cuales fueron los mejores parámetros\n",
    "resultados.sort_values(by = ['error_prueba', 'grado'], ascending = True).head(3)"
   ]
  },
  {
   "cell_type": "code",
   "execution_count": null,
   "metadata": {
    "colab": {},
    "colab_type": "code",
    "id": "q81OIPYJYyTa",
    "tags": []
   },
   "outputs": [],
   "source": [
    "W,scaler = gradiente_descendente_logistic_poly(Xtrain,Ytrain,grado = 2  ,eta = 1, iteraciones = 50)\n",
    "print(\"estos son los pesos para el modelo entrenando \\n\", W)"
   ]
  },
  {
   "cell_type": "code",
   "execution_count": null,
   "metadata": {
    "colab": {},
    "colab_type": "code",
    "id": "8VpRyLulYyTb",
    "tags": []
   },
   "outputs": [],
   "source": [
    "num_errores_entrenamiento =  numero_de_errores (W, Xtrain, Ytrain, 2, scaler)\n",
    "num_errores_prueba =  numero_de_errores (W, Xtest, Ytest, 2, scaler)\n",
    "print(\"muestras mal clasificadas en entrenamiento\", num_errores_entrenamiento)\n",
    "print(\"muestras mal clasificadas en pruebas\", num_errores_prueba)"
   ]
  },
  {
   "cell_type": "code",
   "execution_count": null,
   "metadata": {
    "cellView": "form",
    "colab": {},
    "colab_type": "code",
    "id": "ZnGyv4JtYyTd"
   },
   "outputs": [],
   "source": [
    "#@title Pregunta Abierta\n",
    "#@markdown ¿por qué se uso el error de prueba para ordenar la tabla de resultados en lugar del error de entrenamiento?\n",
    "respuesta_6 = \"\" #@param {type:\"string\"}"
   ]
  },
  {
   "cell_type": "code",
   "execution_count": null,
   "metadata": {
    "cellView": "form",
    "colab": {},
    "colab_type": "code",
    "id": "ANlQQocoYyTf"
   },
   "outputs": [],
   "source": [
    "#@title Pregunta Abierta\n",
    "#@markdown Escribe aqui el numero de muestras que quedaron mal clasificadas en el conjunto de entrenamiento y de pruebas. ¿como calificarias el modelo entrenado?\n",
    "respuesta_7 = \"\" #@param {type:\"string\"}"
   ]
  },
  {
   "cell_type": "code",
   "execution_count": null,
   "metadata": {
    "cellView": "form",
    "colab": {},
    "colab_type": "code",
    "id": "2FZeWG54YyTg"
   },
   "outputs": [],
   "source": [
    "#@title Pregunta Abierta\n",
    "#@markdown Escriba el modelo completo con sus variables y coeficientes de f(**x**,**w**) con la mejor frontera de decisión que encontró. usa los valores del último W entrenado. Recuerda tener presente el grado del polinomio\n",
    "respuesta_8 = \"0.0x1 + 1.0x1**2 + 2.0x2 + 3.0x2**3\" #@param {type:\"string\"}"
   ]
  },
  {
   "cell_type": "code",
   "execution_count": null,
   "metadata": {
    "colab": {},
    "colab_type": "code",
    "id": "qdlLAktOYyTh",
    "tags": []
   },
   "outputs": [],
   "source": [
    "GRADER.check_tests()"
   ]
  },
  {
   "cell_type": "code",
   "execution_count": null,
   "metadata": {
    "cellView": "form",
    "colab": {},
    "colab_type": "code",
    "id": "U0DWcBDcYyTj"
   },
   "outputs": [],
   "source": [
    "#@title Integrantes\n",
    "codigo_integrante_1 ='' #@param {type:\"string\"}"
   ]
  },
  {
   "cell_type": "markdown",
   "metadata": {
    "colab_type": "text",
    "id": "19FgbUXzYyTl"
   },
   "source": [
    "----\n",
    "Esta linea es de uso exclusivo del los profesores\n"
   ]
  },
  {
   "cell_type": "code",
   "execution_count": null,
   "metadata": {
    "colab": {},
    "colab_type": "code",
    "id": "KepG_JTvYyTl"
   },
   "outputs": [],
   "source": [
    "GRADER.grade()"
   ]
  }
 ],
 "metadata": {
  "colab": {
   "name": "lab1_parte2.ipynb",
   "provenance": []
  },
  "kernelspec": {
   "display_name": "Python 3",
   "language": "python",
   "name": "python3"
  },
  "language_info": {
   "codemirror_mode": {
    "name": "ipython",
    "version": 3
   },
   "file_extension": ".py",
   "mimetype": "text/x-python",
   "name": "python",
   "nbconvert_exporter": "python",
   "pygments_lexer": "ipython3",
   "version": "3.7.6"
  }
 },
 "nbformat": 4,
 "nbformat_minor": 1
}
